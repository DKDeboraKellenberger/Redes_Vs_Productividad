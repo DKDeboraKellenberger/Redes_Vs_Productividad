{
 "cells": [
  {
   "cell_type": "code",
   "execution_count": 7,
   "id": "416e7f5e",
   "metadata": {},
   "outputs": [],
   "source": [
    "import pandas as pd"
   ]
  },
  {
   "cell_type": "code",
   "execution_count": 8,
   "id": "d64de9a6",
   "metadata": {},
   "outputs": [],
   "source": [
    "df = pd.read_csv(r\"C:\\Users\\debor\\Documents\\PRACTICA\\Dataset_Redes_vs_Productividad\\social_media_vs_productivity.csv\")"
   ]
  },
  {
   "cell_type": "code",
   "execution_count": 9,
   "id": "78e8cfa4",
   "metadata": {},
   "outputs": [
    {
     "name": "stdout",
     "output_type": "stream",
     "text": [
      "<class 'pandas.core.frame.DataFrame'>\n",
      "RangeIndex: 30000 entries, 0 to 29999\n",
      "Data columns (total 19 columns):\n",
      " #   Column                          Non-Null Count  Dtype  \n",
      "---  ------                          --------------  -----  \n",
      " 0   age                             30000 non-null  int64  \n",
      " 1   gender                          30000 non-null  object \n",
      " 2   job_type                        30000 non-null  object \n",
      " 3   daily_social_media_time         27235 non-null  float64\n",
      " 4   social_platform_preference      30000 non-null  object \n",
      " 5   number_of_notifications         30000 non-null  int64  \n",
      " 6   work_hours_per_day              30000 non-null  float64\n",
      " 7   perceived_productivity_score    28386 non-null  float64\n",
      " 8   actual_productivity_score       27635 non-null  float64\n",
      " 9   stress_level                    28096 non-null  float64\n",
      " 10  sleep_hours                     27402 non-null  float64\n",
      " 11  screen_time_before_sleep        27789 non-null  float64\n",
      " 12  breaks_during_work              30000 non-null  int64  \n",
      " 13  uses_focus_apps                 30000 non-null  bool   \n",
      " 14  has_digital_wellbeing_enabled   30000 non-null  bool   \n",
      " 15  coffee_consumption_per_day      30000 non-null  int64  \n",
      " 16  days_feeling_burnout_per_month  30000 non-null  int64  \n",
      " 17  weekly_offline_hours            30000 non-null  float64\n",
      " 18  job_satisfaction_score          27270 non-null  float64\n",
      "dtypes: bool(2), float64(9), int64(5), object(3)\n",
      "memory usage: 3.9+ MB\n"
     ]
    }
   ],
   "source": [
    "df.info()"
   ]
  },
  {
   "cell_type": "code",
   "execution_count": null,
   "id": "dfc7e987",
   "metadata": {},
   "outputs": [],
   "source": []
  }
 ],
 "metadata": {
  "kernelspec": {
   "display_name": "venv",
   "language": "python",
   "name": "python3"
  },
  "language_info": {
   "codemirror_mode": {
    "name": "ipython",
    "version": 3
   },
   "file_extension": ".py",
   "mimetype": "text/x-python",
   "name": "python",
   "nbconvert_exporter": "python",
   "pygments_lexer": "ipython3",
   "version": "3.12.10"
  }
 },
 "nbformat": 4,
 "nbformat_minor": 5
}
